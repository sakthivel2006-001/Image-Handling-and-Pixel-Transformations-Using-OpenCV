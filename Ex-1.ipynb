EXP NO -1 :Image-Handling-and-Pixel-Transformations-Using-OpenCV
NAME :SAKTHIVEL S
REG NO:212223220090
